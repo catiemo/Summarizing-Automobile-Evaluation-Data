{
 "cells": [
  {
   "cell_type": "markdown",
   "id": "6559a354",
   "metadata": {},
   "source": [
    "### Importing Libraries"
   ]
  },
  {
   "cell_type": "code",
   "execution_count": 11,
   "id": "9e31355b",
   "metadata": {},
   "outputs": [],
   "source": [
    "import pandas as pd"
   ]
  },
  {
   "cell_type": "markdown",
   "id": "d439481c",
   "metadata": {},
   "source": [
    "### Reading csv file"
   ]
  },
  {
   "cell_type": "code",
   "execution_count": 12,
   "id": "a2792a23",
   "metadata": {},
   "outputs": [
    {
     "data": {
      "text/html": [
       "<div>\n",
       "<style scoped>\n",
       "    .dataframe tbody tr th:only-of-type {\n",
       "        vertical-align: middle;\n",
       "    }\n",
       "\n",
       "    .dataframe tbody tr th {\n",
       "        vertical-align: top;\n",
       "    }\n",
       "\n",
       "    .dataframe thead th {\n",
       "        text-align: right;\n",
       "    }\n",
       "</style>\n",
       "<table border=\"1\" class=\"dataframe\">\n",
       "  <thead>\n",
       "    <tr style=\"text-align: right;\">\n",
       "      <th></th>\n",
       "      <th>buying_cost</th>\n",
       "      <th>maintenance_cost</th>\n",
       "      <th>doors</th>\n",
       "      <th>capacity</th>\n",
       "      <th>luggage</th>\n",
       "      <th>safety</th>\n",
       "      <th>acceptability</th>\n",
       "      <th>manufacturer_country</th>\n",
       "    </tr>\n",
       "  </thead>\n",
       "  <tbody>\n",
       "    <tr>\n",
       "      <th>0</th>\n",
       "      <td>vhigh</td>\n",
       "      <td>low</td>\n",
       "      <td>4</td>\n",
       "      <td>4</td>\n",
       "      <td>small</td>\n",
       "      <td>med</td>\n",
       "      <td>unacc</td>\n",
       "      <td>China</td>\n",
       "    </tr>\n",
       "    <tr>\n",
       "      <th>1</th>\n",
       "      <td>vhigh</td>\n",
       "      <td>med</td>\n",
       "      <td>3</td>\n",
       "      <td>4</td>\n",
       "      <td>small</td>\n",
       "      <td>high</td>\n",
       "      <td>acc</td>\n",
       "      <td>France</td>\n",
       "    </tr>\n",
       "    <tr>\n",
       "      <th>2</th>\n",
       "      <td>med</td>\n",
       "      <td>high</td>\n",
       "      <td>3</td>\n",
       "      <td>2</td>\n",
       "      <td>med</td>\n",
       "      <td>high</td>\n",
       "      <td>unacc</td>\n",
       "      <td>United States</td>\n",
       "    </tr>\n",
       "    <tr>\n",
       "      <th>3</th>\n",
       "      <td>low</td>\n",
       "      <td>med</td>\n",
       "      <td>4</td>\n",
       "      <td>more</td>\n",
       "      <td>big</td>\n",
       "      <td>low</td>\n",
       "      <td>unacc</td>\n",
       "      <td>United States</td>\n",
       "    </tr>\n",
       "    <tr>\n",
       "      <th>4</th>\n",
       "      <td>low</td>\n",
       "      <td>high</td>\n",
       "      <td>2</td>\n",
       "      <td>more</td>\n",
       "      <td>med</td>\n",
       "      <td>high</td>\n",
       "      <td>acc</td>\n",
       "      <td>South Korea</td>\n",
       "    </tr>\n",
       "  </tbody>\n",
       "</table>\n",
       "</div>"
      ],
      "text/plain": [
       "  buying_cost maintenance_cost doors capacity luggage safety acceptability  \\\n",
       "0       vhigh              low     4        4   small    med         unacc   \n",
       "1       vhigh              med     3        4   small   high           acc   \n",
       "2         med             high     3        2     med   high         unacc   \n",
       "3         low              med     4     more     big    low         unacc   \n",
       "4         low             high     2     more     med   high           acc   \n",
       "\n",
       "  manufacturer_country  \n",
       "0                China  \n",
       "1               France  \n",
       "2        United States  \n",
       "3        United States  \n",
       "4          South Korea  "
      ]
     },
     "execution_count": 12,
     "metadata": {},
     "output_type": "execute_result"
    }
   ],
   "source": [
    "car_eval = pd.read_csv('car_eval_dataset.csv')\n",
    "car_eval.head()"
   ]
  },
  {
   "cell_type": "markdown",
   "id": "d1eb0c08",
   "metadata": {},
   "source": [
    "### Table of Frequencies using value_counts()"
   ]
  },
  {
   "cell_type": "code",
   "execution_count": 14,
   "id": "e91498bc",
   "metadata": {},
   "outputs": [
    {
     "data": {
      "text/plain": [
       "Japan            228\n",
       "Germany          218\n",
       "South Korea      159\n",
       "United States    138\n",
       "Italy             97\n",
       "France            87\n",
       "China             73\n",
       "Name: manufacturer_country, dtype: int64"
      ]
     },
     "execution_count": 14,
     "metadata": {},
     "output_type": "execute_result"
    }
   ],
   "source": [
    "car_eval.manufacturer_country.value_counts()"
   ]
  },
  {
   "cell_type": "markdown",
   "id": "1cee1454",
   "metadata": {},
   "source": [
    "### Retrieving the 4th Most Frequent Car Manufacturing Country"
   ]
  },
  {
   "cell_type": "code",
   "execution_count": 13,
   "id": "94dc6495",
   "metadata": {},
   "outputs": [
    {
     "data": {
      "text/plain": [
       "'United States'"
      ]
     },
     "execution_count": 13,
     "metadata": {},
     "output_type": "execute_result"
    }
   ],
   "source": [
    "car_eval.manufacturer_country.value_counts().index[3]"
   ]
  },
  {
   "cell_type": "markdown",
   "id": "081b9891",
   "metadata": {},
   "source": [
    "### Table of Proportions for Maunfacturing Countries"
   ]
  },
  {
   "cell_type": "code",
   "execution_count": 15,
   "id": "1ec21278",
   "metadata": {},
   "outputs": [
    {
     "data": {
      "text/plain": [
       "Japan            0.228\n",
       "Germany          0.218\n",
       "South Korea      0.159\n",
       "United States    0.138\n",
       "Italy            0.097\n",
       "France           0.087\n",
       "China            0.073\n",
       "Name: manufacturer_country, dtype: float64"
      ]
     },
     "execution_count": 15,
     "metadata": {},
     "output_type": "execute_result"
    }
   ],
   "source": [
    "car_eval.manufacturer_country.value_counts(normalize = True)"
   ]
  },
  {
   "cell_type": "markdown",
   "id": "f963b9ba",
   "metadata": {},
   "source": [
    "### Obtaining unique buying costs of cars"
   ]
  },
  {
   "cell_type": "code",
   "execution_count": 16,
   "id": "8f7d4257",
   "metadata": {},
   "outputs": [
    {
     "data": {
      "text/plain": [
       "array(['vhigh', 'med', 'low', 'high'], dtype=object)"
      ]
     },
     "execution_count": 16,
     "metadata": {},
     "output_type": "execute_result"
    }
   ],
   "source": [
    "car_eval.buying_cost.unique()"
   ]
  },
  {
   "cell_type": "markdown",
   "id": "100703b4",
   "metadata": {},
   "source": [
    "### Converting buying cost to Categorical"
   ]
  },
  {
   "cell_type": "code",
   "execution_count": 27,
   "id": "0106ee59",
   "metadata": {},
   "outputs": [
    {
     "data": {
      "text/plain": [
       "0      vhigh\n",
       "1      vhigh\n",
       "2        med\n",
       "3        low\n",
       "4        low\n",
       "       ...  \n",
       "995      low\n",
       "996      low\n",
       "997    vhigh\n",
       "998      low\n",
       "999      low\n",
       "Name: buying_cost, Length: 1000, dtype: category\n",
       "Categories (4, object): ['low' < 'med' < 'high' < 'vhigh']"
      ]
     },
     "execution_count": 27,
     "metadata": {},
     "output_type": "execute_result"
    }
   ],
   "source": [
    "buying_cost_categories = ['low', 'med', 'high', 'vhigh']\n",
    "car_eval.buying_cost = pd.Categorical(car_eval.buying_cost, buying_cost_categories, ordered = True)\n",
    "car_eval.buying_cost"
   ]
  },
  {
   "cell_type": "markdown",
   "id": "d18cc5dc",
   "metadata": {},
   "source": [
    "### Obtaining the median buying cost category"
   ]
  },
  {
   "cell_type": "code",
   "execution_count": 32,
   "id": "6f25a437",
   "metadata": {},
   "outputs": [
    {
     "data": {
      "text/plain": [
       "1.0"
      ]
     },
     "execution_count": 32,
     "metadata": {},
     "output_type": "execute_result"
    }
   ],
   "source": [
    "median_cat_num = (car_eval['buying_cost'].cat.codes).median()\n",
    "median_cat_num"
   ]
  },
  {
   "cell_type": "code",
   "execution_count": 33,
   "id": "d9f83b4f",
   "metadata": {},
   "outputs": [
    {
     "data": {
      "text/plain": [
       "'med'"
      ]
     },
     "execution_count": 33,
     "metadata": {},
     "output_type": "execute_result"
    }
   ],
   "source": [
    "median_category = buying_cost_categories[int(median_cat_num)]\n",
    "median_category"
   ]
  },
  {
   "cell_type": "markdown",
   "id": "496e295f",
   "metadata": {},
   "source": [
    "### Table of Proportions for Luggage"
   ]
  },
  {
   "cell_type": "code",
   "execution_count": 18,
   "id": "7191a05c",
   "metadata": {},
   "outputs": [
    {
     "data": {
      "text/plain": [
       "small    0.339\n",
       "med      0.333\n",
       "big      0.328\n",
       "Name: luggage, dtype: float64"
      ]
     },
     "execution_count": 18,
     "metadata": {},
     "output_type": "execute_result"
    }
   ],
   "source": [
    "car_eval.luggage.value_counts(normalize = True)"
   ]
  },
  {
   "cell_type": "markdown",
   "id": "277ad157",
   "metadata": {},
   "source": [
    "### Table of Proportions for Luggage with Null Values Inclusive"
   ]
  },
  {
   "cell_type": "code",
   "execution_count": 19,
   "id": "5bb3cb8b",
   "metadata": {},
   "outputs": [
    {
     "data": {
      "text/plain": [
       "small    0.339\n",
       "med      0.333\n",
       "big      0.328\n",
       "Name: luggage, dtype: float64"
      ]
     },
     "execution_count": 19,
     "metadata": {},
     "output_type": "execute_result"
    }
   ],
   "source": [
    "car_eval.luggage.value_counts(normalize = True, dropna = False)"
   ]
  },
  {
   "cell_type": "markdown",
   "id": "973d1748",
   "metadata": {},
   "source": [
    "### Table of Proportions for Luggage without the 'Normalize' parameter"
   ]
  },
  {
   "cell_type": "code",
   "execution_count": 20,
   "id": "23239700",
   "metadata": {},
   "outputs": [
    {
     "data": {
      "text/plain": [
       "small    0.339\n",
       "med      0.333\n",
       "big      0.328\n",
       "Name: luggage, dtype: float64"
      ]
     },
     "execution_count": 20,
     "metadata": {},
     "output_type": "execute_result"
    }
   ],
   "source": [
    "car_eval.luggage.value_counts()/len(car_eval)"
   ]
  },
  {
   "cell_type": "markdown",
   "id": "faa26aa7",
   "metadata": {},
   "source": [
    "### Cars with 5 or more doors"
   ]
  },
  {
   "cell_type": "code",
   "execution_count": 21,
   "id": "9835e7a9",
   "metadata": {},
   "outputs": [
    {
     "data": {
      "text/plain": [
       "246"
      ]
     },
     "execution_count": 21,
     "metadata": {},
     "output_type": "execute_result"
    }
   ],
   "source": [
    "(car_eval.doors == '5more').sum()"
   ]
  },
  {
   "cell_type": "markdown",
   "id": "29190bd4",
   "metadata": {},
   "source": [
    "### Different approaches in finding proportion of cars with 5 or more doors"
   ]
  },
  {
   "cell_type": "code",
   "execution_count": 34,
   "id": "a48c6be9",
   "metadata": {},
   "outputs": [
    {
     "data": {
      "text/plain": [
       "0.246"
      ]
     },
     "execution_count": 34,
     "metadata": {},
     "output_type": "execute_result"
    }
   ],
   "source": [
    "(car_eval.doors == '5more').sum()/len(car_eval)"
   ]
  },
  {
   "cell_type": "code",
   "execution_count": 35,
   "id": "2b072db3",
   "metadata": {},
   "outputs": [
    {
     "data": {
      "text/plain": [
       "0.246"
      ]
     },
     "execution_count": 35,
     "metadata": {},
     "output_type": "execute_result"
    }
   ],
   "source": [
    "car_eval.doors.value_counts(normalize = True)[2]"
   ]
  },
  {
   "cell_type": "code",
   "execution_count": 36,
   "id": "d75b9355",
   "metadata": {},
   "outputs": [
    {
     "data": {
      "text/plain": [
       "0.246"
      ]
     },
     "execution_count": 36,
     "metadata": {},
     "output_type": "execute_result"
    }
   ],
   "source": [
    "(car_eval.doors == '5more').mean()"
   ]
  },
  {
   "cell_type": "code",
   "execution_count": null,
   "id": "ab0b7474",
   "metadata": {},
   "outputs": [],
   "source": []
  }
 ],
 "metadata": {
  "kernelspec": {
   "display_name": "Python 3",
   "language": "python",
   "name": "python3"
  },
  "language_info": {
   "codemirror_mode": {
    "name": "ipython",
    "version": 3
   },
   "file_extension": ".py",
   "mimetype": "text/x-python",
   "name": "python",
   "nbconvert_exporter": "python",
   "pygments_lexer": "ipython3",
   "version": "3.8.8"
  }
 },
 "nbformat": 4,
 "nbformat_minor": 5
}
